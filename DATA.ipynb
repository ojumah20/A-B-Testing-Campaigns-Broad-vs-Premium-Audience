{
 "cells": [
  {
   "cell_type": "code",
   "execution_count": 24,
   "metadata": {},
   "outputs": [],
   "source": [
    "import pandas as pd\n",
    "import numpy as np\n",
    "from scipy import stats"
   ]
  },
  {
   "cell_type": "markdown",
   "metadata": {},
   "source": [
    "Background Story\n",
    "\n",
    "Company Overview:\n",
    "I work for a leading SaaS provider that recently launched a new app designed to help content creators optimize their online presence and engagement. The app provides a suite of tools and actionable insights to enhance content strategy and improve audience interaction.\n",
    "\n",
    "Current Situation:\n",
    "To boost user adoption, the company has been running advertising campaigns on Instagram. Two distinct campaigns are in progress:\n",
    "\n",
    "Control Campaign: Targets a broad audience of content creators.\n",
    "\n",
    "Test Campaign: Focuses on a premium user segment identified through analysis as having higher potential value but also incurring higher advertising costs.\n",
    "\n",
    "Insight and Challenge:\n",
    "Analysis indicates that a significant portion of our current user base belongs to this premium segment. However, targeting this group comes with higher advertising expenses. This has raised concerns for the CEO about whether the increased investment in the Test Campaign is justified.\n",
    "\n",
    "\n",
    "The primary goal is to assess whether the Test Campaign is effectively driving more user clicks compared to the Control Campaign.\n",
    "\n"
   ]
  },
  {
   "cell_type": "code",
   "execution_count": 25,
   "metadata": {},
   "outputs": [],
   "source": [
    "dataframe1 = pd.read_csv(\"test_group.csv\", sep=';')\n",
    "dataframe2 = pd.read_csv(\"control_group.csv\", sep =';')"
   ]
  },
  {
   "cell_type": "code",
   "execution_count": 26,
   "metadata": {},
   "outputs": [
    {
     "data": {
      "text/html": [
       "<div>\n",
       "<style scoped>\n",
       "    .dataframe tbody tr th:only-of-type {\n",
       "        vertical-align: middle;\n",
       "    }\n",
       "\n",
       "    .dataframe tbody tr th {\n",
       "        vertical-align: top;\n",
       "    }\n",
       "\n",
       "    .dataframe thead th {\n",
       "        text-align: right;\n",
       "    }\n",
       "</style>\n",
       "<table border=\"1\" class=\"dataframe\">\n",
       "  <thead>\n",
       "    <tr style=\"text-align: right;\">\n",
       "      <th></th>\n",
       "      <th>Campaign Name</th>\n",
       "      <th>Date</th>\n",
       "      <th>Spend [USD]</th>\n",
       "      <th># of Impressions</th>\n",
       "      <th>Reach</th>\n",
       "      <th># of Website Clicks</th>\n",
       "      <th># of Searches</th>\n",
       "      <th># of View Content</th>\n",
       "      <th># of Add to Cart</th>\n",
       "      <th># of Purchase</th>\n",
       "    </tr>\n",
       "  </thead>\n",
       "  <tbody>\n",
       "    <tr>\n",
       "      <th>0</th>\n",
       "      <td>Control Campaign</td>\n",
       "      <td>1.08.2019</td>\n",
       "      <td>2280</td>\n",
       "      <td>82702.0</td>\n",
       "      <td>56930.0</td>\n",
       "      <td>7016.0</td>\n",
       "      <td>2290.0</td>\n",
       "      <td>2159.0</td>\n",
       "      <td>1819.0</td>\n",
       "      <td>618.0</td>\n",
       "    </tr>\n",
       "    <tr>\n",
       "      <th>1</th>\n",
       "      <td>Control Campaign</td>\n",
       "      <td>2.08.2019</td>\n",
       "      <td>1757</td>\n",
       "      <td>121040.0</td>\n",
       "      <td>102513.0</td>\n",
       "      <td>8110.0</td>\n",
       "      <td>2033.0</td>\n",
       "      <td>1841.0</td>\n",
       "      <td>1219.0</td>\n",
       "      <td>511.0</td>\n",
       "    </tr>\n",
       "    <tr>\n",
       "      <th>2</th>\n",
       "      <td>Control Campaign</td>\n",
       "      <td>3.08.2019</td>\n",
       "      <td>2343</td>\n",
       "      <td>131711.0</td>\n",
       "      <td>110862.0</td>\n",
       "      <td>6508.0</td>\n",
       "      <td>1737.0</td>\n",
       "      <td>1549.0</td>\n",
       "      <td>1134.0</td>\n",
       "      <td>372.0</td>\n",
       "    </tr>\n",
       "    <tr>\n",
       "      <th>3</th>\n",
       "      <td>Control Campaign</td>\n",
       "      <td>4.08.2019</td>\n",
       "      <td>1940</td>\n",
       "      <td>72878.0</td>\n",
       "      <td>61235.0</td>\n",
       "      <td>3065.0</td>\n",
       "      <td>1042.0</td>\n",
       "      <td>982.0</td>\n",
       "      <td>1183.0</td>\n",
       "      <td>340.0</td>\n",
       "    </tr>\n",
       "    <tr>\n",
       "      <th>4</th>\n",
       "      <td>Control Campaign</td>\n",
       "      <td>5.08.2019</td>\n",
       "      <td>1835</td>\n",
       "      <td>NaN</td>\n",
       "      <td>NaN</td>\n",
       "      <td>NaN</td>\n",
       "      <td>NaN</td>\n",
       "      <td>NaN</td>\n",
       "      <td>NaN</td>\n",
       "      <td>NaN</td>\n",
       "    </tr>\n",
       "    <tr>\n",
       "      <th>5</th>\n",
       "      <td>Control Campaign</td>\n",
       "      <td>6.08.2019</td>\n",
       "      <td>3083</td>\n",
       "      <td>109076.0</td>\n",
       "      <td>87998.0</td>\n",
       "      <td>4028.0</td>\n",
       "      <td>1709.0</td>\n",
       "      <td>1249.0</td>\n",
       "      <td>784.0</td>\n",
       "      <td>764.0</td>\n",
       "    </tr>\n",
       "    <tr>\n",
       "      <th>6</th>\n",
       "      <td>Control Campaign</td>\n",
       "      <td>7.08.2019</td>\n",
       "      <td>2544</td>\n",
       "      <td>142123.0</td>\n",
       "      <td>127852.0</td>\n",
       "      <td>2640.0</td>\n",
       "      <td>1388.0</td>\n",
       "      <td>1106.0</td>\n",
       "      <td>1166.0</td>\n",
       "      <td>499.0</td>\n",
       "    </tr>\n",
       "    <tr>\n",
       "      <th>7</th>\n",
       "      <td>Control Campaign</td>\n",
       "      <td>8.08.2019</td>\n",
       "      <td>1900</td>\n",
       "      <td>90939.0</td>\n",
       "      <td>65217.0</td>\n",
       "      <td>7260.0</td>\n",
       "      <td>3047.0</td>\n",
       "      <td>2746.0</td>\n",
       "      <td>930.0</td>\n",
       "      <td>462.0</td>\n",
       "    </tr>\n",
       "    <tr>\n",
       "      <th>8</th>\n",
       "      <td>Control Campaign</td>\n",
       "      <td>9.08.2019</td>\n",
       "      <td>2813</td>\n",
       "      <td>121332.0</td>\n",
       "      <td>94896.0</td>\n",
       "      <td>6198.0</td>\n",
       "      <td>2487.0</td>\n",
       "      <td>2179.0</td>\n",
       "      <td>645.0</td>\n",
       "      <td>501.0</td>\n",
       "    </tr>\n",
       "    <tr>\n",
       "      <th>9</th>\n",
       "      <td>Control Campaign</td>\n",
       "      <td>10.08.2019</td>\n",
       "      <td>2149</td>\n",
       "      <td>117624.0</td>\n",
       "      <td>91257.0</td>\n",
       "      <td>2277.0</td>\n",
       "      <td>2475.0</td>\n",
       "      <td>1984.0</td>\n",
       "      <td>1629.0</td>\n",
       "      <td>734.0</td>\n",
       "    </tr>\n",
       "  </tbody>\n",
       "</table>\n",
       "</div>"
      ],
      "text/plain": [
       "      Campaign Name        Date  Spend [USD]  # of Impressions     Reach  \\\n",
       "0  Control Campaign   1.08.2019         2280           82702.0   56930.0   \n",
       "1  Control Campaign   2.08.2019         1757          121040.0  102513.0   \n",
       "2  Control Campaign   3.08.2019         2343          131711.0  110862.0   \n",
       "3  Control Campaign   4.08.2019         1940           72878.0   61235.0   \n",
       "4  Control Campaign   5.08.2019         1835               NaN       NaN   \n",
       "5  Control Campaign   6.08.2019         3083          109076.0   87998.0   \n",
       "6  Control Campaign   7.08.2019         2544          142123.0  127852.0   \n",
       "7  Control Campaign   8.08.2019         1900           90939.0   65217.0   \n",
       "8  Control Campaign   9.08.2019         2813          121332.0   94896.0   \n",
       "9  Control Campaign  10.08.2019         2149          117624.0   91257.0   \n",
       "\n",
       "   # of Website Clicks  # of Searches  # of View Content  # of Add to Cart  \\\n",
       "0               7016.0         2290.0             2159.0            1819.0   \n",
       "1               8110.0         2033.0             1841.0            1219.0   \n",
       "2               6508.0         1737.0             1549.0            1134.0   \n",
       "3               3065.0         1042.0              982.0            1183.0   \n",
       "4                  NaN            NaN                NaN               NaN   \n",
       "5               4028.0         1709.0             1249.0             784.0   \n",
       "6               2640.0         1388.0             1106.0            1166.0   \n",
       "7               7260.0         3047.0             2746.0             930.0   \n",
       "8               6198.0         2487.0             2179.0             645.0   \n",
       "9               2277.0         2475.0             1984.0            1629.0   \n",
       "\n",
       "   # of Purchase  \n",
       "0          618.0  \n",
       "1          511.0  \n",
       "2          372.0  \n",
       "3          340.0  \n",
       "4            NaN  \n",
       "5          764.0  \n",
       "6          499.0  \n",
       "7          462.0  \n",
       "8          501.0  \n",
       "9          734.0  "
      ]
     },
     "execution_count": 26,
     "metadata": {},
     "output_type": "execute_result"
    }
   ],
   "source": [
    "dataframe2.head(10)"
   ]
  },
  {
   "cell_type": "code",
   "execution_count": 27,
   "metadata": {},
   "outputs": [],
   "source": [
    "dataframe1.columns = ['Campaign_name','Date','Spend[usd]','Number_of_Impressions',\n",
    "                          'Reach','Number_of_Website_Clicks','Numeber_of_searches',\n",
    "                          'Number_of_view_content','Number_of_Add_To_Cart','Number_of_Purchase']\n",
    "\n",
    "\n",
    "\n",
    "\n",
    "\n",
    "dataframe2.columns = ['Campaign_name','Date','Spend[usd]','Number_of_Impressions',\n",
    "                          'Reach','Number_of_Website_Clicks','Numeber_of_searches',\n",
    "                          'Number_of_view_content','Number_of_Add_To_Cart','Number_of_Purchase']"
   ]
  },
  {
   "cell_type": "code",
   "execution_count": 28,
   "metadata": {},
   "outputs": [
    {
     "data": {
      "text/plain": [
       "Campaign_name               0\n",
       "Date                        0\n",
       "Spend[usd]                  0\n",
       "Number_of_Impressions       0\n",
       "Reach                       0\n",
       "Number_of_Website_Clicks    0\n",
       "Numeber_of_searches         0\n",
       "Number_of_view_content      0\n",
       "Number_of_Add_To_Cart       0\n",
       "Number_of_Purchase          0\n",
       "dtype: int64"
      ]
     },
     "execution_count": 28,
     "metadata": {},
     "output_type": "execute_result"
    }
   ],
   "source": [
    "dataframe1.isnull().sum()"
   ]
  },
  {
   "cell_type": "code",
   "execution_count": 29,
   "metadata": {},
   "outputs": [
    {
     "data": {
      "text/plain": [
       "Campaign_name               0\n",
       "Date                        0\n",
       "Spend[usd]                  0\n",
       "Number_of_Impressions       1\n",
       "Reach                       1\n",
       "Number_of_Website_Clicks    1\n",
       "Numeber_of_searches         1\n",
       "Number_of_view_content      1\n",
       "Number_of_Add_To_Cart       1\n",
       "Number_of_Purchase          1\n",
       "dtype: int64"
      ]
     },
     "execution_count": 29,
     "metadata": {},
     "output_type": "execute_result"
    }
   ],
   "source": [
    "dataframe2.isnull().sum()"
   ]
  },
  {
   "cell_type": "code",
   "execution_count": 30,
   "metadata": {},
   "outputs": [
    {
     "data": {
      "text/plain": [
       "4    5.08.2019\n",
       "Name: Date, dtype: object"
      ]
     },
     "execution_count": 30,
     "metadata": {},
     "output_type": "execute_result"
    }
   ],
   "source": [
    "empty_value = dataframe2[dataframe2['Number_of_Impressions'].isna()]\n",
    "date_with_empty = empty_value['Date']\n",
    "date_with_empty"
   ]
  },
  {
   "cell_type": "code",
   "execution_count": 31,
   "metadata": {},
   "outputs": [
    {
     "name": "stdout",
     "output_type": "stream",
     "text": [
      "      Campaign_name       Date  Spend[usd]  Number_of_Impressions  Reach  \\\n",
      "4  Control Campaign  5.08.2019        1835                    NaN    NaN   \n",
      "\n",
      "   Number_of_Website_Clicks  Numeber_of_searches  Number_of_view_content  \\\n",
      "4                       NaN                  NaN                     NaN   \n",
      "\n",
      "   Number_of_Add_To_Cart  Number_of_Purchase  \n",
      "4                    NaN                 NaN  \n"
     ]
    }
   ],
   "source": [
    "print(dataframe2[dataframe2['Date']=='5.08.2019'])"
   ]
  },
  {
   "cell_type": "code",
   "execution_count": 32,
   "metadata": {},
   "outputs": [
    {
     "name": "stdout",
     "output_type": "stream",
     "text": [
      "   Campaign_name       Date  Spend[usd]  Number_of_Impressions  Reach  \\\n",
      "4  Test Campaign  5.08.2019        2297                 114295  95138   \n",
      "\n",
      "   Number_of_Website_Clicks  Numeber_of_searches  Number_of_view_content  \\\n",
      "4                      5863                 2106                     858   \n",
      "\n",
      "   Number_of_Add_To_Cart  Number_of_Purchase  \n",
      "4                    956                 768  \n"
     ]
    }
   ],
   "source": [
    "print(dataframe1[dataframe1['Date']=='5.08.2019'])"
   ]
  },
  {
   "cell_type": "markdown",
   "metadata": {},
   "source": [
    "I have decided to remove the day 5/08/2019 to prevent bais or mispresented skewness. The data is not missing at random. it is missing on a particular day."
   ]
  },
  {
   "cell_type": "code",
   "execution_count": 33,
   "metadata": {},
   "outputs": [],
   "source": [
    "dataframe1 = dataframe1[dataframe1['Date'] !='5.08.2019']\n",
    "dataframe2 = dataframe2[dataframe2['Date'] !='5.08.2019']"
   ]
  },
  {
   "cell_type": "code",
   "execution_count": 34,
   "metadata": {},
   "outputs": [],
   "source": [
    "dataframe2['Date'] = pd.to_datetime(dataframe2['Date'],format='%d.%m.%Y')\n",
    "dataframe1['Date'] = pd.to_datetime(dataframe1['Date'],format='%d.%m.%Y')"
   ]
  },
  {
   "cell_type": "code",
   "execution_count": null,
   "metadata": {},
   "outputs": [],
   "source": [
    "dataframe1 = dataframe1.sort_values(by='Date',ignore_index=True)\n",
    "dataframe1"
   ]
  },
  {
   "cell_type": "code",
   "execution_count": null,
   "metadata": {},
   "outputs": [],
   "source": [
    "dataframe2 = dataframe2.sort_values(by='Date',ignore_index=True)\n",
    "dataframe2"
   ]
  },
  {
   "cell_type": "markdown",
   "metadata": {},
   "source": [
    "significant_test = 0.05  # Significance level\n",
    "confidence_interval = 95  # Confidence level as a percentage\n",
    "\n",
    "\n",
    "Decision Rule\n",
    "If p-value ≤ 0.05, we reject the null hypothesis.\n",
    "\n",
    "Context\n",
    "I had two options for the primary metric, focusing on determining whether the test campaign performs better than the current campaign. I had the Click through rate and mean of clicks. CTR speaks to unique users that is it counts only one click per user so if a user clicks multple times , it ignores the rest but the mean of clicks put all clicks into consideration and measures the avergae pers session which in this dataset it would be per day.\n",
    "\n",
    "Business Hypothesis\n",
    "The targeted campaign will lead to an increase in the number of clicks on the ad compared to the genric ad campaign.\n",
    "\n",
    "Statistical Hypotheses\n",
    "Null Hypothesis: The mean number of clicks generated by the targeted campaign is equal to the mean number of clicks generated by the generic ad campaign.\n",
    "Alternative Hypothesis: The mean number of clicks generated by the targeted ad campaign is different from the mean number of clicks generated by the generic ad campaign.\n",
    "\n",
    "\n",
    "Data Requirements\n",
    "Two columns are needed:\n",
    "1. Number_of_Website_Clicks: The count of clicks on the website.\n",
    "2. Campaign_Name: Identifier for the current or test campaign.\n",
    "\n",
    "\n",
    "Limitations\n",
    "The dataset, summarized by date (e.g., Kaggle data), does not provide detailed user-level interaction data. This lack of granularity is a common limitation in pre-aggregated datasets and may prevent a true replication of the original experiment."
   ]
  },
  {
   "cell_type": "code",
   "execution_count": null,
   "metadata": {},
   "outputs": [],
   "source": [
    "dataframe2.describe()"
   ]
  },
  {
   "cell_type": "markdown",
   "metadata": {},
   "source": [
    "The choice of a statistical test depends on several factors, including the type of data (continuous or categorical), sample size, number of groups being compared, and distribution assumptions.\n",
    "Examples for continous are: t-tests, z-tests, ANOVA\n",
    "Examples for categorical are: chi-square tests, Fisher’s exact test.\n",
    "\n",
    "\n",
    "\n",
    "If the variances are found to be unequal, you should use the Welch's t-test rather than the standard t-test, as it does not assume equal variances. This test adjusts the degrees of freedom based on the unequal variances, making it more reliable in this scenario.Howver for our dataset, the variances for both groups are equal, so the standard t-test is fine."
   ]
  },
  {
   "cell_type": "code",
   "execution_count": 40,
   "metadata": {},
   "outputs": [
    {
     "name": "stdout",
     "output_type": "stream",
     "text": [
      "F-statistic (Levene's Test): 0.11590561333015952\n",
      "P-value (Levene's Test): 0.7347921763398915\n",
      "The variances are not significantly different (equal variances).\n"
     ]
    }
   ],
   "source": [
    "\n",
    "X_con = dataframe2['Number_of_Website_Clicks'].values\n",
    "x_test = dataframe1['Number_of_Website_Clicks'].values\n",
    "\n",
    "# F-test for equality of variances\n",
    "f_stat, p_value_f = stats.levene(X_con, x_test)  # Levene's test is robust for unequal variances\n",
    "\n",
    "# Checking the result of Levene's test\n",
    "print(f\"F-statistic (Levene's Test): {f_stat}\")\n",
    "print(f\"P-value (Levene's Test): {p_value_f}\")\n",
    "\n",
    "if p_value_f < 0.05:\n",
    "    print(\"The variances are significantly different (unequal variances).\")\n",
    "else:\n",
    "    print(\"The variances are not significantly different (equal variances).\")\n"
   ]
  },
  {
   "cell_type": "code",
   "execution_count": 41,
   "metadata": {},
   "outputs": [
    {
     "name": "stdout",
     "output_type": "stream",
     "text": [
      "T-statistic: -1.5627904156089754\n",
      "P-value: 0.1237359312213655\n",
      "Degrees of Freedom: 56\n",
      "Confidence Interval: (-1636.9417999712882, 202.18317928163435)\n",
      "Fail to reject the null hypothesis: There is no significant difference between the two groups.\n"
     ]
    }
   ],
   "source": [
    "\n",
    "# Calculate sample means and variances\n",
    "x_con_mean = np.mean(X_con)\n",
    "x_test_mean = np.mean(x_test)\n",
    "\n",
    "x_con_var = np.var(X_con, ddof=1)  # sample variance\n",
    "x_test_var = np.var(x_test, ddof=1)  # sample variance\n",
    "\n",
    "# Sample sizes\n",
    "N_con = len(X_con)\n",
    "N_test = len(x_test)\n",
    "\n",
    "# Pooled variance (since variances are assumed equal)\n",
    "pooled_var = ((N_con - 1) * x_con_var + (N_test - 1) * x_test_var) / (N_con + N_test - 2)\n",
    "\n",
    "# Pooled standard deviation\n",
    "pooled_std = np.sqrt(pooled_var)\n",
    "\n",
    "# T-statistic\n",
    "t_stat = (x_con_mean - x_test_mean) / (pooled_std * np.sqrt(1 / N_con + 1 / N_test))\n",
    "\n",
    "# Degrees of freedom\n",
    "df = N_con + N_test - 2\n",
    "\n",
    "# p-value (two-tailed)\n",
    "p_value = 2 * (1 - stats.t.cdf(np.abs(t_stat), df))\n",
    "\n",
    "# Confidence interval (95%)\n",
    "confidence_level = 0.95\n",
    "alpha = 1 - confidence_level\n",
    "t_critical = stats.t.ppf(1 - alpha/2, df)  # t-critical value for 95% CI\n",
    "\n",
    "# Margin of error\n",
    "margin_of_error = t_critical * pooled_std * np.sqrt(1 / N_con + 1 / N_test)\n",
    "\n",
    "# Confidence interval for the difference in means\n",
    "ci_lower = (x_con_mean - x_test_mean) - margin_of_error\n",
    "ci_upper = (x_con_mean - x_test_mean) + margin_of_error\n",
    "\n",
    "# Print the results\n",
    "print(f\"T-statistic: {t_stat}\")\n",
    "print(f\"P-value: {p_value}\")\n",
    "print(f\"Degrees of Freedom: {df}\")\n",
    "print(f\"Confidence Interval: ({ci_lower}, {ci_upper})\")\n",
    "\n",
    "# Conclusion based on p-value\n",
    "if p_value < 0.05:\n",
    "    print(\"Reject the null hypothesis: There is a significant difference between the two groups.\")\n",
    "else:\n",
    "    print(\"Fail to reject the null hypothesis: There is no significant difference between the two groups.\")\n"
   ]
  },
  {
   "cell_type": "markdown",
   "metadata": {},
   "source": [
    "T-statistic: Tells you how far apart the sample means are, measured in terms of the pooled standard error.\n",
    "P-value: Helps you decide whether the difference between the groups is statistically significant.\n",
    "Confidence Interval: Provides a range for the difference in means, allowing you to understand the potential size of the effect.\n",
    " \n",
    " since zero is within the range for the confidence interval, there's a possibility that there is no real difference between the groups—any observed difference could be due to random variation."
   ]
  }
 ],
 "metadata": {
  "kernelspec": {
   "display_name": "ab_testing",
   "language": "python",
   "name": "python3"
  },
  "language_info": {
   "codemirror_mode": {
    "name": "ipython",
    "version": 3
   },
   "file_extension": ".py",
   "mimetype": "text/x-python",
   "name": "python",
   "nbconvert_exporter": "python",
   "pygments_lexer": "ipython3",
   "version": "3.12.4"
  }
 },
 "nbformat": 4,
 "nbformat_minor": 2
}
