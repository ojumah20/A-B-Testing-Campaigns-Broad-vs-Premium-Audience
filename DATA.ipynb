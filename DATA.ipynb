{
 "cells": [
  {
   "cell_type": "code",
   "execution_count": 2,
   "metadata": {},
   "outputs": [],
   "source": [
    "import pandas as pd\n",
    "import numpy as np"
   ]
  },
  {
   "cell_type": "markdown",
   "metadata": {},
   "source": [
    "Background Story\n",
    "\n",
    "Company Overview:\n",
    "I work for a leading SaaS provider that recently launched a new app designed to help content creators optimize their online presence and engagement. The app provides a suite of tools and actionable insights to enhance content strategy and improve audience interaction.\n",
    "\n",
    "Current Situation:\n",
    "To boost user adoption, the company has been running advertising campaigns on Instagram. Two distinct campaigns are in progress:\n",
    "\n",
    "Control Campaign: Targets a broad audience of content creators.\n",
    "Test Campaign: Focuses on a premium user segment identified through analysis as having higher potential value but also incurring higher advertising costs.\n",
    "Insight and Challenge:\n",
    "Analysis indicates that a significant portion of our current user base belongs to this premium segment. However, targeting this group comes with higher advertising expenses. This has raised concerns for the CEO about whether the increased investment in the Test Campaign is justified.\n",
    "\n",
    "The primary goal is to assess whether the Test Campaign is effectively driving more user clicks and generating greater value compared to the Control Campaign.\n",
    "\n"
   ]
  },
  {
   "cell_type": "code",
   "execution_count": 36,
   "metadata": {},
   "outputs": [],
   "source": [
    "dataframe1 = pd.read_csv(\"test_group.csv\", sep=';')\n",
    "dataframe2 = pd.read_csv(\"control_group.csv\", sep =';')"
   ]
  },
  {
   "cell_type": "code",
   "execution_count": 37,
   "metadata": {},
   "outputs": [
    {
     "data": {
      "text/html": [
       "<div>\n",
       "<style scoped>\n",
       "    .dataframe tbody tr th:only-of-type {\n",
       "        vertical-align: middle;\n",
       "    }\n",
       "\n",
       "    .dataframe tbody tr th {\n",
       "        vertical-align: top;\n",
       "    }\n",
       "\n",
       "    .dataframe thead th {\n",
       "        text-align: right;\n",
       "    }\n",
       "</style>\n",
       "<table border=\"1\" class=\"dataframe\">\n",
       "  <thead>\n",
       "    <tr style=\"text-align: right;\">\n",
       "      <th></th>\n",
       "      <th>Campaign Name</th>\n",
       "      <th>Date</th>\n",
       "      <th>Spend [USD]</th>\n",
       "      <th># of Impressions</th>\n",
       "      <th>Reach</th>\n",
       "      <th># of Website Clicks</th>\n",
       "      <th># of Searches</th>\n",
       "      <th># of View Content</th>\n",
       "      <th># of Add to Cart</th>\n",
       "      <th># of Purchase</th>\n",
       "    </tr>\n",
       "  </thead>\n",
       "  <tbody>\n",
       "    <tr>\n",
       "      <th>0</th>\n",
       "      <td>Control Campaign</td>\n",
       "      <td>1.08.2019</td>\n",
       "      <td>2280</td>\n",
       "      <td>82702.0</td>\n",
       "      <td>56930.0</td>\n",
       "      <td>7016.0</td>\n",
       "      <td>2290.0</td>\n",
       "      <td>2159.0</td>\n",
       "      <td>1819.0</td>\n",
       "      <td>618.0</td>\n",
       "    </tr>\n",
       "    <tr>\n",
       "      <th>1</th>\n",
       "      <td>Control Campaign</td>\n",
       "      <td>2.08.2019</td>\n",
       "      <td>1757</td>\n",
       "      <td>121040.0</td>\n",
       "      <td>102513.0</td>\n",
       "      <td>8110.0</td>\n",
       "      <td>2033.0</td>\n",
       "      <td>1841.0</td>\n",
       "      <td>1219.0</td>\n",
       "      <td>511.0</td>\n",
       "    </tr>\n",
       "    <tr>\n",
       "      <th>2</th>\n",
       "      <td>Control Campaign</td>\n",
       "      <td>3.08.2019</td>\n",
       "      <td>2343</td>\n",
       "      <td>131711.0</td>\n",
       "      <td>110862.0</td>\n",
       "      <td>6508.0</td>\n",
       "      <td>1737.0</td>\n",
       "      <td>1549.0</td>\n",
       "      <td>1134.0</td>\n",
       "      <td>372.0</td>\n",
       "    </tr>\n",
       "    <tr>\n",
       "      <th>3</th>\n",
       "      <td>Control Campaign</td>\n",
       "      <td>4.08.2019</td>\n",
       "      <td>1940</td>\n",
       "      <td>72878.0</td>\n",
       "      <td>61235.0</td>\n",
       "      <td>3065.0</td>\n",
       "      <td>1042.0</td>\n",
       "      <td>982.0</td>\n",
       "      <td>1183.0</td>\n",
       "      <td>340.0</td>\n",
       "    </tr>\n",
       "    <tr>\n",
       "      <th>4</th>\n",
       "      <td>Control Campaign</td>\n",
       "      <td>5.08.2019</td>\n",
       "      <td>1835</td>\n",
       "      <td>NaN</td>\n",
       "      <td>NaN</td>\n",
       "      <td>NaN</td>\n",
       "      <td>NaN</td>\n",
       "      <td>NaN</td>\n",
       "      <td>NaN</td>\n",
       "      <td>NaN</td>\n",
       "    </tr>\n",
       "    <tr>\n",
       "      <th>5</th>\n",
       "      <td>Control Campaign</td>\n",
       "      <td>6.08.2019</td>\n",
       "      <td>3083</td>\n",
       "      <td>109076.0</td>\n",
       "      <td>87998.0</td>\n",
       "      <td>4028.0</td>\n",
       "      <td>1709.0</td>\n",
       "      <td>1249.0</td>\n",
       "      <td>784.0</td>\n",
       "      <td>764.0</td>\n",
       "    </tr>\n",
       "    <tr>\n",
       "      <th>6</th>\n",
       "      <td>Control Campaign</td>\n",
       "      <td>7.08.2019</td>\n",
       "      <td>2544</td>\n",
       "      <td>142123.0</td>\n",
       "      <td>127852.0</td>\n",
       "      <td>2640.0</td>\n",
       "      <td>1388.0</td>\n",
       "      <td>1106.0</td>\n",
       "      <td>1166.0</td>\n",
       "      <td>499.0</td>\n",
       "    </tr>\n",
       "    <tr>\n",
       "      <th>7</th>\n",
       "      <td>Control Campaign</td>\n",
       "      <td>8.08.2019</td>\n",
       "      <td>1900</td>\n",
       "      <td>90939.0</td>\n",
       "      <td>65217.0</td>\n",
       "      <td>7260.0</td>\n",
       "      <td>3047.0</td>\n",
       "      <td>2746.0</td>\n",
       "      <td>930.0</td>\n",
       "      <td>462.0</td>\n",
       "    </tr>\n",
       "    <tr>\n",
       "      <th>8</th>\n",
       "      <td>Control Campaign</td>\n",
       "      <td>9.08.2019</td>\n",
       "      <td>2813</td>\n",
       "      <td>121332.0</td>\n",
       "      <td>94896.0</td>\n",
       "      <td>6198.0</td>\n",
       "      <td>2487.0</td>\n",
       "      <td>2179.0</td>\n",
       "      <td>645.0</td>\n",
       "      <td>501.0</td>\n",
       "    </tr>\n",
       "    <tr>\n",
       "      <th>9</th>\n",
       "      <td>Control Campaign</td>\n",
       "      <td>10.08.2019</td>\n",
       "      <td>2149</td>\n",
       "      <td>117624.0</td>\n",
       "      <td>91257.0</td>\n",
       "      <td>2277.0</td>\n",
       "      <td>2475.0</td>\n",
       "      <td>1984.0</td>\n",
       "      <td>1629.0</td>\n",
       "      <td>734.0</td>\n",
       "    </tr>\n",
       "  </tbody>\n",
       "</table>\n",
       "</div>"
      ],
      "text/plain": [
       "      Campaign Name        Date  Spend [USD]  # of Impressions     Reach  \\\n",
       "0  Control Campaign   1.08.2019         2280           82702.0   56930.0   \n",
       "1  Control Campaign   2.08.2019         1757          121040.0  102513.0   \n",
       "2  Control Campaign   3.08.2019         2343          131711.0  110862.0   \n",
       "3  Control Campaign   4.08.2019         1940           72878.0   61235.0   \n",
       "4  Control Campaign   5.08.2019         1835               NaN       NaN   \n",
       "5  Control Campaign   6.08.2019         3083          109076.0   87998.0   \n",
       "6  Control Campaign   7.08.2019         2544          142123.0  127852.0   \n",
       "7  Control Campaign   8.08.2019         1900           90939.0   65217.0   \n",
       "8  Control Campaign   9.08.2019         2813          121332.0   94896.0   \n",
       "9  Control Campaign  10.08.2019         2149          117624.0   91257.0   \n",
       "\n",
       "   # of Website Clicks  # of Searches  # of View Content  # of Add to Cart  \\\n",
       "0               7016.0         2290.0             2159.0            1819.0   \n",
       "1               8110.0         2033.0             1841.0            1219.0   \n",
       "2               6508.0         1737.0             1549.0            1134.0   \n",
       "3               3065.0         1042.0              982.0            1183.0   \n",
       "4                  NaN            NaN                NaN               NaN   \n",
       "5               4028.0         1709.0             1249.0             784.0   \n",
       "6               2640.0         1388.0             1106.0            1166.0   \n",
       "7               7260.0         3047.0             2746.0             930.0   \n",
       "8               6198.0         2487.0             2179.0             645.0   \n",
       "9               2277.0         2475.0             1984.0            1629.0   \n",
       "\n",
       "   # of Purchase  \n",
       "0          618.0  \n",
       "1          511.0  \n",
       "2          372.0  \n",
       "3          340.0  \n",
       "4            NaN  \n",
       "5          764.0  \n",
       "6          499.0  \n",
       "7          462.0  \n",
       "8          501.0  \n",
       "9          734.0  "
      ]
     },
     "execution_count": 37,
     "metadata": {},
     "output_type": "execute_result"
    }
   ],
   "source": [
    "dataframe2.head(10)"
   ]
  },
  {
   "cell_type": "code",
   "execution_count": 38,
   "metadata": {},
   "outputs": [],
   "source": [
    "dataframe1.columns = ['Campaign_name','Date','Spend[usd]','Number_of_Impressions',\n",
    "                          'Reach','Number_of_Website_Clicks','Numeber_of_searches',\n",
    "                          'Number_of_view_content','Number_of_Add_To_Cart','Number_of_Purchase']\n",
    "\n",
    "\n",
    "\n",
    "\n",
    "\n",
    "dataframe2.columns = ['Campaign_name','Date','Spend[usd]','Number_of_Impressions',\n",
    "                          'Reach','Number_of_Website_Clicks','Numeber_of_searches',\n",
    "                          'Number_of_view_content','Number_of_Add_To_Cart','Number_of_Purchase']"
   ]
  },
  {
   "cell_type": "code",
   "execution_count": 39,
   "metadata": {},
   "outputs": [
    {
     "data": {
      "text/plain": [
       "Campaign_name               0\n",
       "Date                        0\n",
       "Spend[usd]                  0\n",
       "Number_of_Impressions       0\n",
       "Reach                       0\n",
       "Number_of_Website_Clicks    0\n",
       "Numeber_of_searches         0\n",
       "Number_of_view_content      0\n",
       "Number_of_Add_To_Cart       0\n",
       "Number_of_Purchase          0\n",
       "dtype: int64"
      ]
     },
     "execution_count": 39,
     "metadata": {},
     "output_type": "execute_result"
    }
   ],
   "source": [
    "dataframe1.isnull().sum()"
   ]
  },
  {
   "cell_type": "code",
   "execution_count": 40,
   "metadata": {},
   "outputs": [
    {
     "data": {
      "text/plain": [
       "Campaign_name               0\n",
       "Date                        0\n",
       "Spend[usd]                  0\n",
       "Number_of_Impressions       1\n",
       "Reach                       1\n",
       "Number_of_Website_Clicks    1\n",
       "Numeber_of_searches         1\n",
       "Number_of_view_content      1\n",
       "Number_of_Add_To_Cart       1\n",
       "Number_of_Purchase          1\n",
       "dtype: int64"
      ]
     },
     "execution_count": 40,
     "metadata": {},
     "output_type": "execute_result"
    }
   ],
   "source": [
    "dataframe2.isnull().sum()"
   ]
  },
  {
   "cell_type": "code",
   "execution_count": 41,
   "metadata": {},
   "outputs": [
    {
     "data": {
      "text/plain": [
       "Campaign_name                object\n",
       "Date                         object\n",
       "Spend[usd]                    int64\n",
       "Number_of_Impressions       float64\n",
       "Reach                       float64\n",
       "Number_of_Website_Clicks    float64\n",
       "Numeber_of_searches         float64\n",
       "Number_of_view_content      float64\n",
       "Number_of_Add_To_Cart       float64\n",
       "Number_of_Purchase          float64\n",
       "dtype: object"
      ]
     },
     "execution_count": 41,
     "metadata": {},
     "output_type": "execute_result"
    }
   ],
   "source": [
    "dataframe2.dtypes"
   ]
  },
  {
   "cell_type": "code",
   "execution_count": 42,
   "metadata": {},
   "outputs": [
    {
     "data": {
      "text/plain": [
       "4    5.08.2019\n",
       "Name: Date, dtype: object"
      ]
     },
     "execution_count": 42,
     "metadata": {},
     "output_type": "execute_result"
    }
   ],
   "source": [
    "empty_value = dataframe2[dataframe2['Number_of_Impressions'].isna()]\n",
    "date_with_empty = empty_value['Date']\n",
    "date_with_empty"
   ]
  },
  {
   "cell_type": "code",
   "execution_count": 43,
   "metadata": {},
   "outputs": [
    {
     "data": {
      "text/plain": [
       "4    5.08.2019\n",
       "Name: Date, dtype: object"
      ]
     },
     "execution_count": 43,
     "metadata": {},
     "output_type": "execute_result"
    }
   ],
   "source": [
    "empty_value = dataframe2[dataframe2['Number_of_view_content'].isna()]\n",
    "date_with_empty = empty_value['Date']\n",
    "date_with_empty"
   ]
  },
  {
   "cell_type": "code",
   "execution_count": 44,
   "metadata": {},
   "outputs": [
    {
     "name": "stdout",
     "output_type": "stream",
     "text": [
      "      Campaign_name       Date  Spend[usd]  Number_of_Impressions  Reach  \\\n",
      "4  Control Campaign  5.08.2019        1835                    NaN    NaN   \n",
      "\n",
      "   Number_of_Website_Clicks  Numeber_of_searches  Number_of_view_content  \\\n",
      "4                       NaN                  NaN                     NaN   \n",
      "\n",
      "   Number_of_Add_To_Cart  Number_of_Purchase  \n",
      "4                    NaN                 NaN  \n"
     ]
    }
   ],
   "source": [
    "print(dataframe2[dataframe2['Date']=='5.08.2019'])"
   ]
  },
  {
   "cell_type": "code",
   "execution_count": 50,
   "metadata": {},
   "outputs": [
    {
     "name": "stdout",
     "output_type": "stream",
     "text": [
      "   Campaign_name       Date  Spend[usd]  Number_of_Impressions  Reach  \\\n",
      "4  Test Campaign  5.08.2019        2297                 114295  95138   \n",
      "\n",
      "   Number_of_Website_Clicks  Numeber_of_searches  Number_of_view_content  \\\n",
      "4                      5863                 2106                     858   \n",
      "\n",
      "   Number_of_Add_To_Cart  Number_of_Purchase  \n",
      "4                    956                 768  \n"
     ]
    }
   ],
   "source": [
    "print(dataframe1[dataframe1['Date']=='5.08.2019'])"
   ]
  },
  {
   "cell_type": "markdown",
   "metadata": {},
   "source": [
    "I have decided to remove the day 5/08/2019 to rpevent bais or mispresented skewness. The data is not missing at random. it is missing on a particular day."
   ]
  },
  {
   "cell_type": "code",
   "execution_count": 51,
   "metadata": {},
   "outputs": [],
   "source": [
    "dataframe1 = dataframe1[dataframe1['Date'] !='5.08.2019']\n",
    "dataframe2 = dataframe2[dataframe2['Date'] !='5.08.2019']"
   ]
  },
  {
   "cell_type": "code",
   "execution_count": null,
   "metadata": {},
   "outputs": [],
   "source": [
    "df_combined = pd.concat([dataframe2,dataframe1],ignore_index=True)\n",
    "df_combined = df_combined.sort_values(by='Date',ignore_index=True)\n",
    "#df_combined = df_combined.sort_values()\n",
    "df_combined"
   ]
  },
  {
   "cell_type": "code",
   "execution_count": 58,
   "metadata": {},
   "outputs": [],
   "source": [
    "df_combined['Date'] = pd.to_datetime(df_combined['Date'],format='%d.%m.%Y')"
   ]
  },
  {
   "cell_type": "code",
   "execution_count": 59,
   "metadata": {},
   "outputs": [
    {
     "data": {
      "text/plain": [
       "Campaign_name                       object\n",
       "Date                        datetime64[ns]\n",
       "Spend[usd]                           int64\n",
       "Number_of_Impressions              float64\n",
       "Reach                              float64\n",
       "Number_of_Website_Clicks           float64\n",
       "Numeber_of_searches                float64\n",
       "Number_of_view_content             float64\n",
       "Number_of_Add_To_Cart              float64\n",
       "Number_of_Purchase                 float64\n",
       "dtype: object"
      ]
     },
     "execution_count": 59,
     "metadata": {},
     "output_type": "execute_result"
    }
   ],
   "source": [
    "df_combined.dtypes\n"
   ]
  },
  {
   "cell_type": "code",
   "execution_count": null,
   "metadata": {},
   "outputs": [],
   "source": [
    "df_combined = df_combined.sort_values(by='Date',ignore_index=True)\n",
    "df_combined"
   ]
  },
  {
   "cell_type": "code",
   "execution_count": null,
   "metadata": {},
   "outputs": [],
   "source": [
    "df_combined.describe()"
   ]
  },
  {
   "cell_type": "code",
   "execution_count": 64,
   "metadata": {},
   "outputs": [],
   "source": [
    "df_combined.to_excel('C:/Users/onyek/Documents/ab_data_cleaned.xlsx', index=False)"
   ]
  },
  {
   "cell_type": "markdown",
   "metadata": {},
   "source": [
    "significant_test = 0.05  # Significance level\n",
    "confidence_interval = 95  # Confidence level as a percentage\n",
    "power_of_the_test = 80  # Power of the test as a percentage\n",
    "duration = \"1 month\"\n",
    "minimum_detectable_effect = 0.10  # Minimum detectable effect in proportion (10%)\n",
    "\n",
    "\n",
    "\n",
    "Decision Rule\n",
    "If p-value ≤ 0.01, we reject the null hypothesis.\n",
    "\n",
    "Context\n",
    "I had two options for the primary metric, focusing on determining whether the test campaign performs better than the current campaign. However, there wasn't much information about the platforms used for the campaigns or whether they took place on the same or different platforms.\n",
    "\n",
    "Business Hypothesis\n",
    "The new ad campaign will lead to an increase in the number of people who click on the ad and visit the website compared to the current ad campaign.\n",
    "\n",
    "Statistical Hypotheses\n",
    "Null Hypothesis: The mean number of clicks generated by the new ad campaign is equal to the mean number of clicks generated by the current ad campaign.\n",
    "Alternative Hypothesis: The mean number of clicks generated by the new ad campaign is different from the mean number of clicks generated by the current ad campaign.\n",
    "\n",
    "\n",
    "Data Requirements\n",
    "Two columns are needed:\n",
    "1. Number_of_Website_Clicks: The count of clicks on the website.\n",
    "2. Campaign_Name: Identifier for the current or test campaign.\n",
    "\n",
    "\n",
    "\n",
    "Sample Size Calculation for Continuous Primary Metric (Mean Number of Clicks)\n",
    "I will use the Central Limit Theorem (CLT) for the calculation.\n",
    "\n",
    "\n",
    "Limitations\n",
    "The dataset, summarized by date (e.g., Kaggle data), does not provide detailed user-level interaction data. This lack of granularity is a common limitation in pre-aggregated datasets and may prevent a true replication of the original experiment."
   ]
  },
  {
   "cell_type": "code",
   "execution_count": null,
   "metadata": {},
   "outputs": [],
   "source": [
    "data_ab_testing = df_combined[['Campaign_name','Reach','Number_of_Website_Clicks']]\n",
    "data_ab_testing"
   ]
  },
  {
   "cell_type": "code",
   "execution_count": 73,
   "metadata": {},
   "outputs": [
    {
     "name": "stdout",
     "output_type": "stream",
     "text": [
      "[7016. 8110. 6508. 3065. 4028. 2640. 7260. 6198. 2277. 8137. 2993. 6554.\n",
      " 4521. 4896. 5224. 6628. 7253. 3706. 2578. 5691. 6843. 4410. 4085. 4234.\n",
      " 5435. 4941. 6287. 8127. 4658.]\n",
      "[3038. 4657. 7885. 4216. 7488. 4221. 7184. 8259. 8125. 3750. 8264. 7568.\n",
      " 3993. 4993. 6800. 7910. 6909. 7617. 6050. 5471. 4431. 5077. 7156. 3596.\n",
      " 3820. 6435. 8144. 7651. 4399.]\n"
     ]
    }
   ],
   "source": [
    "from scipy.stats import norm\n",
    "N_con = 29\n",
    "N_test = 29\n",
    "X_con = df_combined[df_combined['Campaign_name']=='Control Campaign']['Number_of_Website_Clicks'].values\n",
    "x_test = df_combined[df_combined['Campaign_name']=='Test Campaign']['Number_of_Website_Clicks'].values\n",
    "\n",
    "\n",
    "print(X_con)\n",
    "print(x_test)"
   ]
  },
  {
   "cell_type": "code",
   "execution_count": 74,
   "metadata": {},
   "outputs": [],
   "source": [
    "alpha = 0.05\n",
    "x_con_mean = np.mean(X_con)\n",
    "x_test_mean = np.mean(x_test)\n",
    "\n",
    "\n",
    "\n",
    "x_con_var = np.var(X_con)\n",
    "x_test_var = np.var(x_test)"
   ]
  },
  {
   "cell_type": "code",
   "execution_count": 75,
   "metadata": {},
   "outputs": [
    {
     "data": {
      "text/plain": [
       "2950015.1878715805"
      ]
     },
     "execution_count": 75,
     "metadata": {},
     "output_type": "execute_result"
    }
   ],
   "source": [
    "pooled_variance_= ((N_con - 1) * x_con_var + (N_test - 1 ) * x_test_var) /(N_con + N_test - 2)\n",
    "\n",
    "pooled_variance_"
   ]
  },
  {
   "cell_type": "code",
   "execution_count": 77,
   "metadata": {},
   "outputs": [],
   "source": [
    "SE = np.sqrt(pooled_variance_) #standard error"
   ]
  },
  {
   "cell_type": "code",
   "execution_count": 78,
   "metadata": {},
   "outputs": [
    {
     "data": {
      "text/plain": [
       "-0.4176733073244886"
      ]
     },
     "execution_count": 78,
     "metadata": {},
     "output_type": "execute_result"
    }
   ],
   "source": [
    "#test statistics\n",
    "tt_stats = (x_con_mean - x_test_mean)/SE\n",
    "tt_stats"
   ]
  },
  {
   "cell_type": "code",
   "execution_count": 79,
   "metadata": {},
   "outputs": [
    {
     "data": {
      "text/plain": [
       "2.003240718847872"
      ]
     },
     "execution_count": 79,
     "metadata": {},
     "output_type": "execute_result"
    }
   ],
   "source": [
    "#critical value for t-test\n",
    "from scipy.stats import t\n",
    "t_critical = t.ppf(1-alpha/2,N_con + N_test - 2)\n",
    "t_critical "
   ]
  },
  {
   "cell_type": "code",
   "execution_count": 81,
   "metadata": {},
   "outputs": [
    {
     "data": {
      "text/plain": [
       "1.3222168715384282"
      ]
     },
     "execution_count": 81,
     "metadata": {},
     "output_type": "execute_result"
    }
   ],
   "source": [
    "#pvalue\n",
    "p_value  = t.sf(tt_stats, N_con + N_test - 2)* 2\n",
    "p_value "
   ]
  },
  {
   "cell_type": "code",
   "execution_count": 82,
   "metadata": {},
   "outputs": [],
   "source": [
    "#MARGIN of error\n",
    "margin_error = t_critical * SE"
   ]
  },
  {
   "cell_type": "code",
   "execution_count": 84,
   "metadata": {},
   "outputs": [
    {
     "name": "stdout",
     "output_type": "stream",
     "text": [
      "[-4158.07  2723.31]\n"
     ]
    }
   ],
   "source": [
    "#confidence interval to know if there is a pratical significance\n",
    "CI = [(x_con_mean -x_test_mean) - margin_error, (x_con_mean - x_test_mean) + margin_error]\n",
    "print(np.round(CI,2))"
   ]
  },
  {
   "cell_type": "markdown",
   "metadata": {},
   "source": [
    " since zero is within the range, there's a possibility that there is no real difference between the groups—any observed difference could be due to random variation."
   ]
  }
 ],
 "metadata": {
  "kernelspec": {
   "display_name": "ab_testing",
   "language": "python",
   "name": "python3"
  },
  "language_info": {
   "codemirror_mode": {
    "name": "ipython",
    "version": 3
   },
   "file_extension": ".py",
   "mimetype": "text/x-python",
   "name": "python",
   "nbconvert_exporter": "python",
   "pygments_lexer": "ipython3",
   "version": "3.12.4"
  }
 },
 "nbformat": 4,
 "nbformat_minor": 2
}
